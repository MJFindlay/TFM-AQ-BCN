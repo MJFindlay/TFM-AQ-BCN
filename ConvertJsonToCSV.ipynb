{
 "cells": [
  {
   "cell_type": "code",
   "execution_count": 4,
   "metadata": {},
   "outputs": [],
   "source": [
    "import sys\n",
    "sys.executable\n",
    "import pandas as pd"
   ]
  },
  {
   "cell_type": "code",
   "execution_count": 5,
   "metadata": {},
   "outputs": [],
   "source": [
    "df = pd.read_json (r'/home/mikejfindlay/TFM_AQ_BCN/data/Weather/HistoricalWeatherDataBCNAirport.json')\n",
    "export_csv = df.to_csv (r'/home/mikejfindlay/TFM_AQ_BCN/data/Weather/HistoricalWeatherDataBCNAirport.csv', index = None, header=True)\n"
   ]
  },
  {
   "cell_type": "code",
   "execution_count": 6,
   "metadata": {},
   "outputs": [],
   "source": [
    "df = pd.read_json (r'/home/mikejfindlay/TFM_AQ_BCN/data/Weather/HistoricalWeatherDataBCN.json')\n",
    "export_csv = df.to_csv (r'/home/mikejfindlay/TFM_AQ_BCN/data/Weather/HistoricalWeatherDataBCN.csv', index = None, header=True)\n"
   ]
  },
  {
   "cell_type": "code",
   "execution_count": 7,
   "metadata": {},
   "outputs": [],
   "source": [
    "df = pd.read_json (r'/home/mikejfindlay/TFM_AQ_BCN/data/Weather/HistoricalWeatherDataBCNFabra.json')\n",
    "export_csv = df.to_csv (r'/home/mikejfindlay/TFM_AQ_BCN/data/Weather/HistoricalWeatherDataBCNFabra.csv', index = None, header=True)\n"
   ]
  },
  {
   "cell_type": "code",
   "execution_count": null,
   "metadata": {},
   "outputs": [],
   "source": []
  }
 ],
 "metadata": {
  "kernelspec": {
   "display_name": "Python 3",
   "language": "python",
   "name": "python3"
  },
  "language_info": {
   "codemirror_mode": {
    "name": "ipython",
    "version": 3
   },
   "file_extension": ".py",
   "mimetype": "text/x-python",
   "name": "python",
   "nbconvert_exporter": "python",
   "pygments_lexer": "ipython3",
   "version": "3.9.0"
  }
 },
 "nbformat": 4,
 "nbformat_minor": 4
}
